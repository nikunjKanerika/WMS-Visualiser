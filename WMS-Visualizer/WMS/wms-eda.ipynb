{
 "cells": [
  {
   "cell_type": "markdown",
   "metadata": {},
   "source": [
    "# WMS - Exploratory Data Analysis"
   ]
  },
  {
   "cell_type": "code",
   "execution_count": 1,
   "metadata": {},
   "outputs": [],
   "source": [
    "import os\n",
    "import pandas as pd\n",
    "import numpy as np\n",
    "from matplotlib import pyplot as plt\n",
    "from colorama import Fore, Style, init\n",
    "import csv\n",
    "import statistics\n",
    "import math"
   ]
  },
  {
   "cell_type": "code",
   "execution_count": 2,
   "metadata": {},
   "outputs": [],
   "source": [
    "from classes.CellIterator import CellIterator\n",
    "from classes.Item import Item\n",
    "from classes.Worker import Worker\n",
    "from classes.Warehouse import Warehouse"
   ]
  },
  {
   "cell_type": "markdown",
   "metadata": {},
   "source": [
    "## Read the results files"
   ]
  },
  {
   "cell_type": "code",
   "execution_count": 7,
   "metadata": {},
   "outputs": [],
   "source": [
    "RESULTS_PATH = \"results/\"\n",
    "results_random_path = os.path.join(RESULTS_PATH, \"wms-random.csv\")\n",
    "results_smart_path = os.path.join(RESULTS_PATH, \"wms-smart.csv\")"
   ]
  },
  {
   "cell_type": "markdown",
   "metadata": {},
   "source": [
    "### How does Standard Deviation and Margin of Error vary with the number of order lists?"
   ]
  },
  {
   "cell_type": "code",
   "execution_count": 4,
   "metadata": {},
   "outputs": [
    {
     "name": "stdout",
     "output_type": "stream",
     "text": [
      "wms-orderlist created!\n"
     ]
    }
   ],
   "source": [
    "# Define the path for the new CSV file\n",
    "summary_path = os.path.join(RESULTS_PATH, \"wms-orderlist.csv\")\n",
    "\n",
    "# Create a new DataFrame with the required columns if it doesn't exist already\n",
    "if not os.path.exists(summary_path):\n",
    "    df_summary = pd.DataFrame(columns=[\"num_order_lists\", \"avg\", \"min\", \"max\", \"std\", \"moe\"])\n",
    "    df_summary.to_csv(summary_path, index=False)\n",
    "    print(\"wms-orderlist created!\")\n",
    "else:\n",
    "    df_summary = pd.read_csv(summary_path)\n",
    "    print(\"wms-orderlist exists\")"
   ]
  },
  {
   "cell_type": "code",
   "execution_count": 5,
   "metadata": {},
   "outputs": [],
   "source": [
    "# Function to add a new record to the summary DataFrame\n",
    "def add_summary_record(df):\n",
    "    num_order_lists = df.shape[1] - 6  # Number of cost columns, subtract 'n' and 'avg' columns\n",
    "    avg_avg = df['avg'].mean()\n",
    "    avg_min = df['min'].mean()\n",
    "    avg_max = df['max'].mean()\n",
    "    avg_std = df['std'].mean()\n",
    "    avg_moe = df['moe'].mean()\n",
    "    \n",
    "    new_record = {\n",
    "        \"num_order_lists\": num_order_lists,\n",
    "        \"avg\": avg_avg,\n",
    "        \"min\": avg_min,\n",
    "        \"max\": avg_max,\n",
    "        \"std\": avg_std,\n",
    "        \"moe\": avg_moe\n",
    "    }\n",
    "    \n",
    "    new_record_df = pd.DataFrame([new_record])\n",
    "    \n",
    "    global df_summary\n",
    "    df_summary = pd.concat([df_summary, new_record_df], ignore_index=True)\n",
    "    df_summary.to_csv(\"results/wms-orderlist.csv\", index=False)\n",
    "    print(\"New record added successfully!\")"
   ]
  },
  {
   "cell_type": "code",
   "execution_count": 8,
   "metadata": {},
   "outputs": [
    {
     "name": "stdout",
     "output_type": "stream",
     "text": [
      "New record added successfully!\n"
     ]
    }
   ],
   "source": [
    "df_random = pd.read_csv(results_random_path)\n",
    "add_summary_record(df_random)"
   ]
  }
 ],
 "metadata": {
  "kernelspec": {
   "display_name": "base",
   "language": "python",
   "name": "python3"
  },
  "language_info": {
   "codemirror_mode": {
    "name": "ipython",
    "version": 3
   },
   "file_extension": ".py",
   "mimetype": "text/x-python",
   "name": "python",
   "nbconvert_exporter": "python",
   "pygments_lexer": "ipython3",
   "version": "3.12.4"
  }
 },
 "nbformat": 4,
 "nbformat_minor": 2
}
