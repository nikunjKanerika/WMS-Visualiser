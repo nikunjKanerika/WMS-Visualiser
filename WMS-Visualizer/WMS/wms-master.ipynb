{
 "cells": [
  {
   "cell_type": "markdown",
   "metadata": {},
   "source": [
    "# WMS-Master\n",
    "Controls WMS-Random and WMS-Smart"
   ]
  },
  {
   "cell_type": "code",
   "execution_count": 12,
   "metadata": {},
   "outputs": [],
   "source": [
    "import os\n",
    "import numpy as np\n",
    "from matplotlib import pyplot as plt\n",
    "from colorama import Fore, Style, init\n",
    "import csv\n",
    "import statistics\n",
    "import math"
   ]
  },
  {
   "cell_type": "code",
   "execution_count": 13,
   "metadata": {},
   "outputs": [],
   "source": [
    "from classes.CellIterator import CellIterator\n",
    "from classes.Item import Item\n",
    "from classes.Worker import Worker\n",
    "from classes.Warehouse import Warehouse"
   ]
  },
  {
   "cell_type": "code",
   "execution_count": 14,
   "metadata": {},
   "outputs": [],
   "source": [
    "NUM_BAYS = 6\n",
    "RACK_LENGTH = 15\n",
    "CELLS_PER_BAY = 20\n",
    "CELL_LENGTH = RACK_LENGTH / CELLS_PER_BAY\n",
    "RACK_WIDTH = 0.8\n",
    "BAY_WIDTH = RACK_WIDTH / 2\n",
    "LEVEL_HEIGHT = 0.2"
   ]
  },
  {
   "cell_type": "code",
   "execution_count": 15,
   "metadata": {},
   "outputs": [],
   "source": [
    "WHR = Warehouse(\n",
    "    NUM_BAYS,\n",
    "    RACK_LENGTH,\n",
    "    CELLS_PER_BAY,\n",
    "    BAY_WIDTH,\n",
    "    LEVEL_HEIGHT\n",
    ")\n",
    "\n",
    "WHS = Warehouse(\n",
    "    NUM_BAYS,\n",
    "    RACK_LENGTH,\n",
    "    CELLS_PER_BAY,\n",
    "    BAY_WIDTH,\n",
    "    LEVEL_HEIGHT\n",
    ")"
   ]
  },
  {
   "cell_type": "code",
   "execution_count": 16,
   "metadata": {},
   "outputs": [],
   "source": [
    "def margin_of_error(std_dev, sample_size, z_score=1.96):\n",
    "    return z_score * (std_dev / math.sqrt(sample_size))"
   ]
  },
  {
   "cell_type": "code",
   "execution_count": 17,
   "metadata": {},
   "outputs": [],
   "source": [
    "def log_total_cells_to_csv(costs, file_path):\n",
    "    # Ensure the directory exists\n",
    "    os.makedirs(os.path.dirname(file_path), exist_ok=True)\n",
    "\n",
    "    # Check if the file exists\n",
    "    file_exists = os.path.isfile(file_path)\n",
    "    \n",
    "    # Open the file in append mode\n",
    "    with open(file_path, mode='a', newline='') as file:\n",
    "        writer = csv.writer(file)\n",
    "        \n",
    "        # If the file doesn't exist, write the header\n",
    "        if not file_exists:\n",
    "            headers = ['n'] + [f'cst{i+1}' for i in range(len(costs))] + ['avg', 'min', 'max', 'std', 'moe']\n",
    "            writer.writerow(headers)\n",
    "\n",
    "        # Get the trial number\n",
    "        if file_exists:\n",
    "            # Read the existing data to determine the trial number\n",
    "            with open(file_path, mode='r') as read_file:\n",
    "                reader = csv.reader(read_file)\n",
    "                rows = list(reader)\n",
    "                trial_number = len(rows)  # Assuming the header is included, this will give the next trial number\n",
    "        else:\n",
    "            trial_number = 1\n",
    "\n",
    "        # Calculate average, minimum, maximum, and variance\n",
    "        avg_cost = sum(costs) / len(costs)\n",
    "        min_cost = min(costs)\n",
    "        max_cost = max(costs)\n",
    "        std_cost = round(math.sqrt(statistics.variance(costs)) if len(costs) > 1 else 0, 2)\n",
    "        moe_cost = round(margin_of_error(std_cost, len(costs)), 2)\n",
    "\n",
    "        # Write the new record\n",
    "        writer.writerow([trial_number] + costs + [avg_cost, min_cost, max_cost, std_cost, moe_cost])\n",
    "\n",
    "def get_average_total_cost(file_path='results/wms.csv'):\n",
    "    # Check if the file exists\n",
    "    if not os.path.isfile(file_path):\n",
    "        print(f\"File {file_path} does not exist.\")\n",
    "        return None\n",
    "\n",
    "    total_cost = 0\n",
    "    num_trials = 0\n",
    "\n",
    "    with open(file_path, mode='r') as file:\n",
    "        reader = csv.DictReader(file)\n",
    "        for row in reader:\n",
    "            total_cost += int(row['cost'])\n",
    "            num_trials += 1\n",
    "\n",
    "    if num_trials == 0:\n",
    "        return 0  # Avoid division by zero if no records are found\n",
    "\n",
    "    average_cost = total_cost / num_trials\n",
    "    return average_cost"
   ]
  },
  {
   "cell_type": "code",
   "execution_count": 18,
   "metadata": {},
   "outputs": [],
   "source": [
    "def wms_runner(WH, type):\n",
    "    WH.generate_item_list_small(\"./data/order_history_small.csv\")\n",
    "    \n",
    "    # create a warehouse configuration (random / smart)\n",
    "    if type == \"random\": WH.sprinkle_aisle()\n",
    "    elif type == \"smart\": WH.smart_sprinkle()\n",
    "\n",
    "    directory = 'data/orders'\n",
    "    costs = []\n",
    "\n",
    "    for filename in os.listdir(directory):\n",
    "        file_path = os.path.join(directory, filename)\n",
    "        if not os.path.isfile(file_path): continue\n",
    "\n",
    "        WH.read_orders(file_path)\n",
    "        WH.dist_batched_order_list()\n",
    "\n",
    "        for worker in WH.workers: worker.min_max_order_list(WH.aisle_items)\n",
    "\n",
    "        total_cells = 0\n",
    "        for worker in WH.workers:\n",
    "            worker.fulfill_batched_order()\n",
    "            total_cells += worker.cells_travelled\n",
    "\n",
    "        costs.append(total_cells)\n",
    "        WH.reset(\"soft\")\n",
    "\n",
    "    if type == \"random\": log_total_cells_to_csv(costs, \"results/wms-random.csv\")\n",
    "    if type == \"smart\": log_total_cells_to_csv(costs, \"results/wms-smart.csv\")\n",
    "\n",
    "    WH.reset(\"hard\")\n",
    "    # print(\"Done!\")"
   ]
  },
  {
   "cell_type": "code",
   "execution_count": 19,
   "metadata": {},
   "outputs": [
    {
     "name": "stdout",
     "output_type": "stream",
     "text": [
      "results/wms-random.csv has been deleted successfully.\n",
      "\u001b[37m\u001b[37m\u001b[37m\u001b[37m\u001b[37m\u001b[37m\u001b[37m\u001b[37m\u001b[37m\u001b[37m\u001b[37m\u001b[37m\u001b[37m\u001b[37m\u001b[37m\u001b[37m\u001b[37m\u001b[37m\u001b[37m\u001b[37m\u001b[37m\u001b[37m\u001b[37m\u001b[37m\u001b[37m\u001b[37m\u001b[37m\u001b[37m\u001b[37m\u001b[37m\u001b[37m\u001b[37m\u001b[37m\u001b[37m\u001b[37m\u001b[37m\u001b[37m\u001b[37m\u001b[37m\u001b[37m\u001b[37m\u001b[37m\u001b[37m\u001b[37m\u001b[37m\u001b[37m\u001b[37m\u001b[37m\u001b[37m\u001b[37m\u001b[37m\u001b[37m\u001b[37m\u001b[37m\u001b[37m\u001b[37m\u001b[37m\u001b[37m\u001b[37m\u001b[37m\u001b[37m\u001b[37m\u001b[37m\u001b[37m\u001b[37m\u001b[37m\u001b[37m\u001b[37m\u001b[37m\u001b[37m\u001b[37m\u001b[37m\u001b[37m\u001b[37m\u001b[37m\u001b[37m\u001b[37m\u001b[37m\u001b[37m\u001b[37m\u001b[37m\u001b[37m\u001b[37m\u001b[37m\u001b[37m\u001b[37m\u001b[37m\u001b[37m\u001b[37m\u001b[37m\u001b[37m\u001b[37m\u001b[37m\u001b[37m\u001b[37m\u001b[37m\u001b[37m\u001b[37m\u001b[37m\u001b[37m\u001b[37m\u001b[37m\u001b[37m\u001b[37m\u001b[37m\u001b[37m\u001b[37m\u001b[37m\u001b[37m\u001b[37m\u001b[37m\u001b[37m\u001b[37m\u001b[37m\u001b[37m\u001b[37m\u001b[37m\u001b[37m\u001b[37m\u001b[37m"
     ]
    }
   ],
   "source": [
    "wms_random_path = \"results/wms-random.csv\"\n",
    "if os.path.exists(wms_random_path):\n",
    "    os.remove(wms_random_path)\n",
    "    print(f\"{wms_random_path} has been deleted successfully.\")\n",
    "else:\n",
    "    print(f\"{wms_random_path} does not exist.\")\n",
    "\n",
    "N = 1\n",
    "for _ in range(N):\n",
    "    wms_runner(WHR, type=\"random\")\n",
    "    wms_runner(WHS, type=\"smart\")\n",
    "# wms_runner(WHS, type=\"smart\")"
   ]
  },
  {
   "cell_type": "markdown",
   "metadata": {},
   "source": [
    "# Flask"
   ]
  },
  {
   "cell_type": "code",
   "execution_count": 24,
   "metadata": {},
   "outputs": [
    {
     "data": {
      "text/plain": [
       "600000.0000000001"
      ]
     },
     "execution_count": 24,
     "metadata": {},
     "output_type": "execute_result"
    }
   ],
   "source": [
    "WHR.cell_capacity_cm3"
   ]
  },
  {
   "cell_type": "code",
   "execution_count": null,
   "metadata": {},
   "outputs": [],
   "source": []
  }
 ],
 "metadata": {
  "kernelspec": {
   "display_name": "base",
   "language": "python",
   "name": "python3"
  },
  "language_info": {
   "codemirror_mode": {
    "name": "ipython",
    "version": 3
   },
   "file_extension": ".py",
   "mimetype": "text/x-python",
   "name": "python",
   "nbconvert_exporter": "python",
   "pygments_lexer": "ipython3",
   "version": "3.12.4"
  }
 },
 "nbformat": 4,
 "nbformat_minor": 2
}
